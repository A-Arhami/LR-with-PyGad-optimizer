{
  "nbformat": 4,
  "nbformat_minor": 0,
  "metadata": {
    "colab": {
      "provenance": [],
      "authorship_tag": "ABX9TyNROCeCqxZoNIDV4FWbw8wM",
      "include_colab_link": true
    },
    "kernelspec": {
      "name": "python3",
      "display_name": "Python 3"
    },
    "language_info": {
      "name": "python"
    }
  },
  "cells": [
    {
      "cell_type": "markdown",
      "metadata": {
        "id": "view-in-github",
        "colab_type": "text"
      },
      "source": [
        "<a href=\"https://colab.research.google.com/github/A-Arhami/LR-with-PyGad-optimizer/blob/main/GAPrediction.ipynb\" target=\"_parent\"><img src=\"https://colab.research.google.com/assets/colab-badge.svg\" alt=\"Open In Colab\"/></a>"
      ]
    },
    {
      "cell_type": "code",
      "execution_count": null,
      "metadata": {
        "colab": {
          "base_uri": "https://localhost:8080/"
        },
        "id": "namuP7KVmUrV",
        "outputId": "bc4142af-50cb-4a27-9a98-38102fb85f93"
      },
      "outputs": [
        {
          "output_type": "stream",
          "name": "stdout",
          "text": [
            "Looking in indexes: https://pypi.org/simple, https://us-python.pkg.dev/colab-wheels/public/simple/\n",
            "Collecting pygad\n",
            "  Downloading pygad-2.18.1-py3-none-any.whl (56 kB)\n",
            "\u001b[K     |████████████████████████████████| 56 kB 2.2 MB/s \n",
            "\u001b[?25hRequirement already satisfied: matplotlib in /usr/local/lib/python3.7/dist-packages (from pygad) (3.2.2)\n",
            "Requirement already satisfied: numpy in /usr/local/lib/python3.7/dist-packages (from pygad) (1.21.6)\n",
            "Requirement already satisfied: cycler>=0.10 in /usr/local/lib/python3.7/dist-packages (from matplotlib->pygad) (0.11.0)\n",
            "Requirement already satisfied: kiwisolver>=1.0.1 in /usr/local/lib/python3.7/dist-packages (from matplotlib->pygad) (1.4.4)\n",
            "Requirement already satisfied: pyparsing!=2.0.4,!=2.1.2,!=2.1.6,>=2.0.1 in /usr/local/lib/python3.7/dist-packages (from matplotlib->pygad) (3.0.9)\n",
            "Requirement already satisfied: python-dateutil>=2.1 in /usr/local/lib/python3.7/dist-packages (from matplotlib->pygad) (2.8.2)\n",
            "Requirement already satisfied: typing-extensions in /usr/local/lib/python3.7/dist-packages (from kiwisolver>=1.0.1->matplotlib->pygad) (4.1.1)\n",
            "Requirement already satisfied: six>=1.5 in /usr/local/lib/python3.7/dist-packages (from python-dateutil>=2.1->matplotlib->pygad) (1.15.0)\n",
            "Installing collected packages: pygad\n",
            "Successfully installed pygad-2.18.1\n"
          ]
        }
      ],
      "source": [
        "pip install pygad\n"
      ]
    },
    {
      "cell_type": "code",
      "source": [
        "import pandas as pd\n",
        "import math\n",
        "import numpy as np\n",
        "import pygad\n"
      ],
      "metadata": {
        "id": "x2jBPJl8nBvM"
      },
      "execution_count": null,
      "outputs": []
    },
    {
      "cell_type": "code",
      "source": [
        "from google.colab import drive\n",
        "drive.mount('/content/drive')"
      ],
      "metadata": {
        "colab": {
          "base_uri": "https://localhost:8080/"
        },
        "id": "l51gbi23mhez",
        "outputId": "8ece495d-ca43-42b5-c54b-901c4deac4ff"
      },
      "execution_count": null,
      "outputs": [
        {
          "output_type": "stream",
          "name": "stdout",
          "text": [
            "Mounted at /content/drive\n"
          ]
        }
      ]
    },
    {
      "cell_type": "code",
      "source": [
        "raw=pd.read_csv(\"/content/drive/MyDrive/Colab Notebooks/GApredictions.csv\")#.drop(columns=[\"Unnamed: 0\",\"Time\",\"date\"])\n"
      ],
      "metadata": {
        "id": "TWyGsoONn5mW"
      },
      "execution_count": null,
      "outputs": []
    },
    {
      "cell_type": "code",
      "source": [
        "raw"
      ],
      "metadata": {
        "colab": {
          "base_uri": "https://localhost:8080/",
          "height": 424
        },
        "id": "JWNo_GBOoMlO",
        "outputId": "80b3ceaa-bd77-41c8-cb3b-8c23c4d3b4a1"
      },
      "execution_count": null,
      "outputs": [
        {
          "output_type": "execute_result",
          "data": {
            "text/plain": [
              "            Time  Close(true lable)  prediction 1  prediction 2  prediction \n",
              "0     12/31/2006            1.31940      1.322531      1.322005     1.124685\n",
              "1       1/1/2007            1.32343      1.348465      1.321670     1.124930\n",
              "2       1/2/2007            1.32825      1.330020      1.324405     1.124902\n",
              "3       1/3/2007            1.31733      1.309952      1.320277     1.124295\n",
              "4       1/4/2007            1.30683      1.293590      1.314075     1.124027\n",
              "...          ...                ...           ...           ...          ...\n",
              "4315   4/27/2022            1.05295      1.061222      1.181256          NaN\n",
              "4316   4/28/2022            1.05118      1.067852      1.184440          NaN\n",
              "4317   4/29/2022            1.05409      1.046568      1.184072          NaN\n",
              "4318    5/1/2022            1.05180      1.059561      1.181723          NaN\n",
              "4319    5/2/2022            1.05169      1.051996      1.181636          NaN\n",
              "\n",
              "[4320 rows x 5 columns]"
            ],
            "text/html": [
              "\n",
              "  <div id=\"df-abb0df98-0881-45b5-9f00-5ac588edc6e4\">\n",
              "    <div class=\"colab-df-container\">\n",
              "      <div>\n",
              "<style scoped>\n",
              "    .dataframe tbody tr th:only-of-type {\n",
              "        vertical-align: middle;\n",
              "    }\n",
              "\n",
              "    .dataframe tbody tr th {\n",
              "        vertical-align: top;\n",
              "    }\n",
              "\n",
              "    .dataframe thead th {\n",
              "        text-align: right;\n",
              "    }\n",
              "</style>\n",
              "<table border=\"1\" class=\"dataframe\">\n",
              "  <thead>\n",
              "    <tr style=\"text-align: right;\">\n",
              "      <th></th>\n",
              "      <th>Time</th>\n",
              "      <th>Close(true lable)</th>\n",
              "      <th>prediction 1</th>\n",
              "      <th>prediction 2</th>\n",
              "      <th>prediction</th>\n",
              "    </tr>\n",
              "  </thead>\n",
              "  <tbody>\n",
              "    <tr>\n",
              "      <th>0</th>\n",
              "      <td>12/31/2006</td>\n",
              "      <td>1.31940</td>\n",
              "      <td>1.322531</td>\n",
              "      <td>1.322005</td>\n",
              "      <td>1.124685</td>\n",
              "    </tr>\n",
              "    <tr>\n",
              "      <th>1</th>\n",
              "      <td>1/1/2007</td>\n",
              "      <td>1.32343</td>\n",
              "      <td>1.348465</td>\n",
              "      <td>1.321670</td>\n",
              "      <td>1.124930</td>\n",
              "    </tr>\n",
              "    <tr>\n",
              "      <th>2</th>\n",
              "      <td>1/2/2007</td>\n",
              "      <td>1.32825</td>\n",
              "      <td>1.330020</td>\n",
              "      <td>1.324405</td>\n",
              "      <td>1.124902</td>\n",
              "    </tr>\n",
              "    <tr>\n",
              "      <th>3</th>\n",
              "      <td>1/3/2007</td>\n",
              "      <td>1.31733</td>\n",
              "      <td>1.309952</td>\n",
              "      <td>1.320277</td>\n",
              "      <td>1.124295</td>\n",
              "    </tr>\n",
              "    <tr>\n",
              "      <th>4</th>\n",
              "      <td>1/4/2007</td>\n",
              "      <td>1.30683</td>\n",
              "      <td>1.293590</td>\n",
              "      <td>1.314075</td>\n",
              "      <td>1.124027</td>\n",
              "    </tr>\n",
              "    <tr>\n",
              "      <th>...</th>\n",
              "      <td>...</td>\n",
              "      <td>...</td>\n",
              "      <td>...</td>\n",
              "      <td>...</td>\n",
              "      <td>...</td>\n",
              "    </tr>\n",
              "    <tr>\n",
              "      <th>4315</th>\n",
              "      <td>4/27/2022</td>\n",
              "      <td>1.05295</td>\n",
              "      <td>1.061222</td>\n",
              "      <td>1.181256</td>\n",
              "      <td>NaN</td>\n",
              "    </tr>\n",
              "    <tr>\n",
              "      <th>4316</th>\n",
              "      <td>4/28/2022</td>\n",
              "      <td>1.05118</td>\n",
              "      <td>1.067852</td>\n",
              "      <td>1.184440</td>\n",
              "      <td>NaN</td>\n",
              "    </tr>\n",
              "    <tr>\n",
              "      <th>4317</th>\n",
              "      <td>4/29/2022</td>\n",
              "      <td>1.05409</td>\n",
              "      <td>1.046568</td>\n",
              "      <td>1.184072</td>\n",
              "      <td>NaN</td>\n",
              "    </tr>\n",
              "    <tr>\n",
              "      <th>4318</th>\n",
              "      <td>5/1/2022</td>\n",
              "      <td>1.05180</td>\n",
              "      <td>1.059561</td>\n",
              "      <td>1.181723</td>\n",
              "      <td>NaN</td>\n",
              "    </tr>\n",
              "    <tr>\n",
              "      <th>4319</th>\n",
              "      <td>5/2/2022</td>\n",
              "      <td>1.05169</td>\n",
              "      <td>1.051996</td>\n",
              "      <td>1.181636</td>\n",
              "      <td>NaN</td>\n",
              "    </tr>\n",
              "  </tbody>\n",
              "</table>\n",
              "<p>4320 rows × 5 columns</p>\n",
              "</div>\n",
              "      <button class=\"colab-df-convert\" onclick=\"convertToInteractive('df-abb0df98-0881-45b5-9f00-5ac588edc6e4')\"\n",
              "              title=\"Convert this dataframe to an interactive table.\"\n",
              "              style=\"display:none;\">\n",
              "        \n",
              "  <svg xmlns=\"http://www.w3.org/2000/svg\" height=\"24px\"viewBox=\"0 0 24 24\"\n",
              "       width=\"24px\">\n",
              "    <path d=\"M0 0h24v24H0V0z\" fill=\"none\"/>\n",
              "    <path d=\"M18.56 5.44l.94 2.06.94-2.06 2.06-.94-2.06-.94-.94-2.06-.94 2.06-2.06.94zm-11 1L8.5 8.5l.94-2.06 2.06-.94-2.06-.94L8.5 2.5l-.94 2.06-2.06.94zm10 10l.94 2.06.94-2.06 2.06-.94-2.06-.94-.94-2.06-.94 2.06-2.06.94z\"/><path d=\"M17.41 7.96l-1.37-1.37c-.4-.4-.92-.59-1.43-.59-.52 0-1.04.2-1.43.59L10.3 9.45l-7.72 7.72c-.78.78-.78 2.05 0 2.83L4 21.41c.39.39.9.59 1.41.59.51 0 1.02-.2 1.41-.59l7.78-7.78 2.81-2.81c.8-.78.8-2.07 0-2.86zM5.41 20L4 18.59l7.72-7.72 1.47 1.35L5.41 20z\"/>\n",
              "  </svg>\n",
              "      </button>\n",
              "      \n",
              "  <style>\n",
              "    .colab-df-container {\n",
              "      display:flex;\n",
              "      flex-wrap:wrap;\n",
              "      gap: 12px;\n",
              "    }\n",
              "\n",
              "    .colab-df-convert {\n",
              "      background-color: #E8F0FE;\n",
              "      border: none;\n",
              "      border-radius: 50%;\n",
              "      cursor: pointer;\n",
              "      display: none;\n",
              "      fill: #1967D2;\n",
              "      height: 32px;\n",
              "      padding: 0 0 0 0;\n",
              "      width: 32px;\n",
              "    }\n",
              "\n",
              "    .colab-df-convert:hover {\n",
              "      background-color: #E2EBFA;\n",
              "      box-shadow: 0px 1px 2px rgba(60, 64, 67, 0.3), 0px 1px 3px 1px rgba(60, 64, 67, 0.15);\n",
              "      fill: #174EA6;\n",
              "    }\n",
              "\n",
              "    [theme=dark] .colab-df-convert {\n",
              "      background-color: #3B4455;\n",
              "      fill: #D2E3FC;\n",
              "    }\n",
              "\n",
              "    [theme=dark] .colab-df-convert:hover {\n",
              "      background-color: #434B5C;\n",
              "      box-shadow: 0px 1px 3px 1px rgba(0, 0, 0, 0.15);\n",
              "      filter: drop-shadow(0px 1px 2px rgba(0, 0, 0, 0.3));\n",
              "      fill: #FFFFFF;\n",
              "    }\n",
              "  </style>\n",
              "\n",
              "      <script>\n",
              "        const buttonEl =\n",
              "          document.querySelector('#df-abb0df98-0881-45b5-9f00-5ac588edc6e4 button.colab-df-convert');\n",
              "        buttonEl.style.display =\n",
              "          google.colab.kernel.accessAllowed ? 'block' : 'none';\n",
              "\n",
              "        async function convertToInteractive(key) {\n",
              "          const element = document.querySelector('#df-abb0df98-0881-45b5-9f00-5ac588edc6e4');\n",
              "          const dataTable =\n",
              "            await google.colab.kernel.invokeFunction('convertToInteractive',\n",
              "                                                     [key], {});\n",
              "          if (!dataTable) return;\n",
              "\n",
              "          const docLinkHtml = 'Like what you see? Visit the ' +\n",
              "            '<a target=\"_blank\" href=https://colab.research.google.com/notebooks/data_table.ipynb>data table notebook</a>'\n",
              "            + ' to learn more about interactive tables.';\n",
              "          element.innerHTML = '';\n",
              "          dataTable['output_type'] = 'display_data';\n",
              "          await google.colab.output.renderOutput(dataTable, element);\n",
              "          const docLink = document.createElement('div');\n",
              "          docLink.innerHTML = docLinkHtml;\n",
              "          element.appendChild(docLink);\n",
              "        }\n",
              "      </script>\n",
              "    </div>\n",
              "  </div>\n",
              "  "
            ]
          },
          "metadata": {},
          "execution_count": 8
        }
      ]
    },
    {
      "cell_type": "code",
      "source": [
        "Raw=raw.dropna()\n",
        "Raw"
      ],
      "metadata": {
        "colab": {
          "base_uri": "https://localhost:8080/",
          "height": 424
        },
        "id": "pEAJKl7fq67X",
        "outputId": "ad090193-28af-4d4c-d401-5f4ecc290e19"
      },
      "execution_count": null,
      "outputs": [
        {
          "output_type": "execute_result",
          "data": {
            "text/plain": [
              "            Time  Close(true lable)  prediction 1  prediction 2  prediction \n",
              "0     12/31/2006            1.31940      1.322531      1.322005     1.124685\n",
              "1       1/1/2007            1.32343      1.348465      1.321670     1.124930\n",
              "2       1/2/2007            1.32825      1.330020      1.324405     1.124902\n",
              "3       1/3/2007            1.31733      1.309952      1.320277     1.124295\n",
              "4       1/4/2007            1.30683      1.293590      1.314075     1.124027\n",
              "...          ...                ...           ...           ...          ...\n",
              "4287   3/25/2022            1.09805      1.137305      1.183453     1.111409\n",
              "4288   3/27/2022            1.09545      1.117743      1.183496     1.111419\n",
              "4289   3/28/2022            1.09877      1.105228      1.183872     1.111449\n",
              "4290   3/29/2022            1.11154      1.087242      1.179332     1.111494\n",
              "4291   3/30/2022            1.11684      1.126613      1.177400     1.111548\n",
              "\n",
              "[4292 rows x 5 columns]"
            ],
            "text/html": [
              "\n",
              "  <div id=\"df-49621ee4-6d5e-47e0-b97f-bb1a71b422e2\">\n",
              "    <div class=\"colab-df-container\">\n",
              "      <div>\n",
              "<style scoped>\n",
              "    .dataframe tbody tr th:only-of-type {\n",
              "        vertical-align: middle;\n",
              "    }\n",
              "\n",
              "    .dataframe tbody tr th {\n",
              "        vertical-align: top;\n",
              "    }\n",
              "\n",
              "    .dataframe thead th {\n",
              "        text-align: right;\n",
              "    }\n",
              "</style>\n",
              "<table border=\"1\" class=\"dataframe\">\n",
              "  <thead>\n",
              "    <tr style=\"text-align: right;\">\n",
              "      <th></th>\n",
              "      <th>Time</th>\n",
              "      <th>Close(true lable)</th>\n",
              "      <th>prediction 1</th>\n",
              "      <th>prediction 2</th>\n",
              "      <th>prediction</th>\n",
              "    </tr>\n",
              "  </thead>\n",
              "  <tbody>\n",
              "    <tr>\n",
              "      <th>0</th>\n",
              "      <td>12/31/2006</td>\n",
              "      <td>1.31940</td>\n",
              "      <td>1.322531</td>\n",
              "      <td>1.322005</td>\n",
              "      <td>1.124685</td>\n",
              "    </tr>\n",
              "    <tr>\n",
              "      <th>1</th>\n",
              "      <td>1/1/2007</td>\n",
              "      <td>1.32343</td>\n",
              "      <td>1.348465</td>\n",
              "      <td>1.321670</td>\n",
              "      <td>1.124930</td>\n",
              "    </tr>\n",
              "    <tr>\n",
              "      <th>2</th>\n",
              "      <td>1/2/2007</td>\n",
              "      <td>1.32825</td>\n",
              "      <td>1.330020</td>\n",
              "      <td>1.324405</td>\n",
              "      <td>1.124902</td>\n",
              "    </tr>\n",
              "    <tr>\n",
              "      <th>3</th>\n",
              "      <td>1/3/2007</td>\n",
              "      <td>1.31733</td>\n",
              "      <td>1.309952</td>\n",
              "      <td>1.320277</td>\n",
              "      <td>1.124295</td>\n",
              "    </tr>\n",
              "    <tr>\n",
              "      <th>4</th>\n",
              "      <td>1/4/2007</td>\n",
              "      <td>1.30683</td>\n",
              "      <td>1.293590</td>\n",
              "      <td>1.314075</td>\n",
              "      <td>1.124027</td>\n",
              "    </tr>\n",
              "    <tr>\n",
              "      <th>...</th>\n",
              "      <td>...</td>\n",
              "      <td>...</td>\n",
              "      <td>...</td>\n",
              "      <td>...</td>\n",
              "      <td>...</td>\n",
              "    </tr>\n",
              "    <tr>\n",
              "      <th>4287</th>\n",
              "      <td>3/25/2022</td>\n",
              "      <td>1.09805</td>\n",
              "      <td>1.137305</td>\n",
              "      <td>1.183453</td>\n",
              "      <td>1.111409</td>\n",
              "    </tr>\n",
              "    <tr>\n",
              "      <th>4288</th>\n",
              "      <td>3/27/2022</td>\n",
              "      <td>1.09545</td>\n",
              "      <td>1.117743</td>\n",
              "      <td>1.183496</td>\n",
              "      <td>1.111419</td>\n",
              "    </tr>\n",
              "    <tr>\n",
              "      <th>4289</th>\n",
              "      <td>3/28/2022</td>\n",
              "      <td>1.09877</td>\n",
              "      <td>1.105228</td>\n",
              "      <td>1.183872</td>\n",
              "      <td>1.111449</td>\n",
              "    </tr>\n",
              "    <tr>\n",
              "      <th>4290</th>\n",
              "      <td>3/29/2022</td>\n",
              "      <td>1.11154</td>\n",
              "      <td>1.087242</td>\n",
              "      <td>1.179332</td>\n",
              "      <td>1.111494</td>\n",
              "    </tr>\n",
              "    <tr>\n",
              "      <th>4291</th>\n",
              "      <td>3/30/2022</td>\n",
              "      <td>1.11684</td>\n",
              "      <td>1.126613</td>\n",
              "      <td>1.177400</td>\n",
              "      <td>1.111548</td>\n",
              "    </tr>\n",
              "  </tbody>\n",
              "</table>\n",
              "<p>4292 rows × 5 columns</p>\n",
              "</div>\n",
              "      <button class=\"colab-df-convert\" onclick=\"convertToInteractive('df-49621ee4-6d5e-47e0-b97f-bb1a71b422e2')\"\n",
              "              title=\"Convert this dataframe to an interactive table.\"\n",
              "              style=\"display:none;\">\n",
              "        \n",
              "  <svg xmlns=\"http://www.w3.org/2000/svg\" height=\"24px\"viewBox=\"0 0 24 24\"\n",
              "       width=\"24px\">\n",
              "    <path d=\"M0 0h24v24H0V0z\" fill=\"none\"/>\n",
              "    <path d=\"M18.56 5.44l.94 2.06.94-2.06 2.06-.94-2.06-.94-.94-2.06-.94 2.06-2.06.94zm-11 1L8.5 8.5l.94-2.06 2.06-.94-2.06-.94L8.5 2.5l-.94 2.06-2.06.94zm10 10l.94 2.06.94-2.06 2.06-.94-2.06-.94-.94-2.06-.94 2.06-2.06.94z\"/><path d=\"M17.41 7.96l-1.37-1.37c-.4-.4-.92-.59-1.43-.59-.52 0-1.04.2-1.43.59L10.3 9.45l-7.72 7.72c-.78.78-.78 2.05 0 2.83L4 21.41c.39.39.9.59 1.41.59.51 0 1.02-.2 1.41-.59l7.78-7.78 2.81-2.81c.8-.78.8-2.07 0-2.86zM5.41 20L4 18.59l7.72-7.72 1.47 1.35L5.41 20z\"/>\n",
              "  </svg>\n",
              "      </button>\n",
              "      \n",
              "  <style>\n",
              "    .colab-df-container {\n",
              "      display:flex;\n",
              "      flex-wrap:wrap;\n",
              "      gap: 12px;\n",
              "    }\n",
              "\n",
              "    .colab-df-convert {\n",
              "      background-color: #E8F0FE;\n",
              "      border: none;\n",
              "      border-radius: 50%;\n",
              "      cursor: pointer;\n",
              "      display: none;\n",
              "      fill: #1967D2;\n",
              "      height: 32px;\n",
              "      padding: 0 0 0 0;\n",
              "      width: 32px;\n",
              "    }\n",
              "\n",
              "    .colab-df-convert:hover {\n",
              "      background-color: #E2EBFA;\n",
              "      box-shadow: 0px 1px 2px rgba(60, 64, 67, 0.3), 0px 1px 3px 1px rgba(60, 64, 67, 0.15);\n",
              "      fill: #174EA6;\n",
              "    }\n",
              "\n",
              "    [theme=dark] .colab-df-convert {\n",
              "      background-color: #3B4455;\n",
              "      fill: #D2E3FC;\n",
              "    }\n",
              "\n",
              "    [theme=dark] .colab-df-convert:hover {\n",
              "      background-color: #434B5C;\n",
              "      box-shadow: 0px 1px 3px 1px rgba(0, 0, 0, 0.15);\n",
              "      filter: drop-shadow(0px 1px 2px rgba(0, 0, 0, 0.3));\n",
              "      fill: #FFFFFF;\n",
              "    }\n",
              "  </style>\n",
              "\n",
              "      <script>\n",
              "        const buttonEl =\n",
              "          document.querySelector('#df-49621ee4-6d5e-47e0-b97f-bb1a71b422e2 button.colab-df-convert');\n",
              "        buttonEl.style.display =\n",
              "          google.colab.kernel.accessAllowed ? 'block' : 'none';\n",
              "\n",
              "        async function convertToInteractive(key) {\n",
              "          const element = document.querySelector('#df-49621ee4-6d5e-47e0-b97f-bb1a71b422e2');\n",
              "          const dataTable =\n",
              "            await google.colab.kernel.invokeFunction('convertToInteractive',\n",
              "                                                     [key], {});\n",
              "          if (!dataTable) return;\n",
              "\n",
              "          const docLinkHtml = 'Like what you see? Visit the ' +\n",
              "            '<a target=\"_blank\" href=https://colab.research.google.com/notebooks/data_table.ipynb>data table notebook</a>'\n",
              "            + ' to learn more about interactive tables.';\n",
              "          element.innerHTML = '';\n",
              "          dataTable['output_type'] = 'display_data';\n",
              "          await google.colab.output.renderOutput(dataTable, element);\n",
              "          const docLink = document.createElement('div');\n",
              "          docLink.innerHTML = docLinkHtml;\n",
              "          element.appendChild(docLink);\n",
              "        }\n",
              "      </script>\n",
              "    </div>\n",
              "  </div>\n",
              "  "
            ]
          },
          "metadata": {},
          "execution_count": 9
        }
      ]
    },
    {
      "cell_type": "code",
      "source": [
        "from sklearn.model_selection import train_test_split\n",
        "\n",
        "X=Raw.iloc[:,2:4]\n",
        "Y=Raw.iloc[:,1]\n",
        "ntest=len (Raw)//5\n",
        "TrainX=Raw.iloc[:-ntest,2:4]\n",
        "TrainY=Raw.iloc[:-ntest,1]\n",
        "TestX=Raw.iloc[-ntest:,2:4]\n",
        "TestY=Raw.iloc[-ntest:,1]\n",
        "TrainX, TestX, TrainY, TestY = train_test_split(X, Y, test_size=0.2, random_state=41)\n",
        "\n",
        "print (\"Number of Train data: \",len(TrainX))\n",
        "print (\"Number of Test data: \", len(TestX))"
      ],
      "metadata": {
        "colab": {
          "base_uri": "https://localhost:8080/"
        },
        "id": "ZHzZjVvyovoQ",
        "outputId": "7d5490a0-541c-4019-d489-625601c88ca5"
      },
      "execution_count": null,
      "outputs": [
        {
          "output_type": "stream",
          "name": "stdout",
          "text": [
            "Number of Train data:  3433\n",
            "Number of Test data:  859\n"
          ]
        }
      ]
    },
    {
      "cell_type": "code",
      "source": [],
      "metadata": {
        "id": "GOF3BjPdvUBz"
      },
      "execution_count": null,
      "outputs": []
    },
    {
      "cell_type": "code",
      "source": [
        "def Predict(solution, data):\n",
        "  prediction=np.zeros(len(data))\n",
        "  for i in range(len(data)):\n",
        "    prediction[i]=np.sum(solution*data.iloc[i,:])\n",
        "\n",
        "  return prediction\n",
        "\n",
        "def fitness_func(solution, solution_idx):\n",
        "    output = Predict(solution, TrainX)\n",
        "    fitness = 1.0 /  np.sum(np.abs(output -TrainY)) + 0.000001\n",
        "    \n",
        "    return fitness\n",
        "\n",
        "ga_instance = pygad.GA(num_generations=500,\n",
        "                       sol_per_pop=10,\n",
        "                       num_genes=3,\n",
        "                       num_parents_mating=2,\n",
        "                       fitness_func=fitness_func,\n",
        "                       mutation_type=\"random\",\n",
        "                       mutation_probability=0.6)\n",
        "\n",
        "ga_instance.run()\n",
        "\n",
        "ga_instance.plot_fitness()"
      ],
      "metadata": {
        "colab": {
          "base_uri": "https://localhost:8080/",
          "height": 583
        },
        "id": "u8WxjBh4pA6R",
        "outputId": "01e13107-6264-43a7-f090-8f611a656ee6"
      },
      "execution_count": null,
      "outputs": [
        {
          "output_type": "display_data",
          "data": {
            "text/plain": [
              "<Figure size 432x288 with 1 Axes>"
            ],
            "image/png": "[encoded data removed]"
          },
          "metadata": {
            "needs_background": "light"
          }
        },
        {
          "output_type": "execute_result",
          "data": {
            "text/plain": [
              "<Figure size 432x288 with 1 Axes>"
            ],
            "image/png": "[encoded data removed]"
          },
          "metadata": {},
          "execution_count": 37
        }
      ]
    },
    {
      "cell_type": "code",
      "source": [],
      "metadata": {
        "id": "7x0GrZw7sqOF"
      },
      "execution_count": null,
      "outputs": []
    },
    {
      "cell_type": "code",
      "source": [
        "from sklearn import metrics\n",
        "\n",
        "solution, solution_fitness, solution_idx = ga_instance.best_solution()\n",
        "print(\"Parameters of the best solution : {solution}\".format(solution=solution))\n",
        "print(\"Fitness value of the best solution = {solution_fitness}\".format(solution_fitness=solution_fitness))\n",
        "print('-----------------Train--------------------')\n",
        "Y_pred = Predict(solution, TrainX)\n",
        "Y_test=TrainY\n",
        "print('Mean Absolute Error:', metrics.mean_absolute_error(Y_test, Y_pred))\n",
        "print('R2 Score:', metrics.r2_score(Y_test, Y_pred))\n",
        "print('Root Mean Squared Error:', np.sqrt(metrics.mean_squared_error(Y_test, Y_pred)))\n",
        "\n",
        "\n",
        "print('-----------------Test--------------------')\n",
        "Y_pred = Predict(solution, TestX)\n",
        "Y_test=TestY\n",
        "print('Mean Absolute Error:', metrics.mean_absolute_error(Y_test, Y_pred))\n",
        "print('R2 Score:', metrics.r2_score(Y_test, Y_pred))\n",
        "print('Root Mean Squared Error:', np.sqrt(metrics.mean_squared_error(Y_test, Y_pred)))\n"
      ],
      "metadata": {
        "colab": {
          "base_uri": "https://localhost:8080/"
        },
        "id": "LKHyj-mQv-wn",
        "outputId": "f6c587f6-af1d-4f51-f9c0-db5983ab9945"
      },
      "execution_count": null,
      "outputs": [
        {
          "output_type": "stream",
          "name": "stdout",
          "text": [
            "Parameters of the best solution : [ 1.06002331 -0.1321987   0.08240581]\n",
            "Fitness value of the best solution = 0.01843978768055746\n",
            "-----------------Train--------------------\n",
            "Mean Absolute Error: 0.015795842219198997\n",
            "R2 Score: 0.9774250887606286\n",
            "Root Mean Squared Error: 0.01969567745726305\n",
            "-----------------Test--------------------\n",
            "Mean Absolute Error: 0.01641573937305972\n",
            "R2 Score: 0.975629079843299\n",
            "Root Mean Squared Error: 0.020454583547485496\n"
          ]
        }
      ]
    },
    {
      "cell_type": "code",
      "source": [
        "import matplotlib.pyplot as plt\n",
        "from sklearn.linear_model import LinearRegression\n",
        "\n",
        "y_predicted = Predict(solution, TestX)\n",
        "y_test=TestY\n",
        "fig, ax = plt.subplots()\n",
        "ax.scatter(y_test, y_predicted,c='crimson')\n",
        "plt.plot([1, 1.3], [1, 1.3], 'b-')\n",
        "ax.set_xlabel('Actual')\n",
        "ax.set_ylabel('Predicted')\n",
        "#regression line\n",
        "y_test, y_predicted = y_test.values.reshape(-1,1), y_predicted.reshape(-1,1)\n",
        "ax.plot(y_test, LinearRegression().fit(y_test, y_predicted).predict(y_test))\n",
        "#plt.annotate(\"r-squared = {:.3f}\".format(metrics.r2_score(y_test, y_predicted)), (0, 1))\n",
        "plt.title(\"Test Data\")\n",
        "\n",
        "plt.show()"
      ],
      "metadata": {
        "colab": {
          "base_uri": "https://localhost:8080/",
          "height": 295
        },
        "id": "9h_p2Doi0V6l",
        "outputId": "64be5590-3406-40ff-858e-c836206c85c8"
      },
      "execution_count": null,
      "outputs": [
        {
          "output_type": "display_data",
          "data": {
            "text/plain": [
              "<Figure size 432x288 with 1 Axes>"
            ],
            "image/png": "[encoded data removed]"
          },
          "metadata": {
            "needs_background": "light"
          }
        }
      ]
    },
    {
      "cell_type": "code",
      "source": [
        "import matplotlib.pyplot as plt\n",
        "from sklearn.linear_model import LinearRegression\n",
        "\n",
        "y_predicted = Predict(solution, TrainX)\n",
        "y_test=TrainY\n",
        "fig, ax = plt.subplots()\n",
        "ax.scatter(y_test, y_predicted,c='crimson')\n",
        "plt.plot([1, 1.3], [1, 1.3], 'b-')\n",
        "ax.set_xlabel('Actual')\n",
        "ax.set_ylabel('Predicted')\n",
        "#regression line\n",
        "y_test, y_predicted = y_test.values.reshape(-1,1), y_predicted.reshape(-1,1)\n",
        "ax.plot(y_test, LinearRegression().fit(y_test, y_predicted).predict(y_test))\n",
        "#plt.annotate(\"r-squared = {:.3f}\".format(metrics.r2_score(y_test, y_predicted)), (0, 1))\n",
        "plt.title(\"Train data\")\n",
        "\n",
        "plt.show()"
      ],
      "metadata": {
        "colab": {
          "base_uri": "https://localhost:8080/",
          "height": 295
        },
        "id": "mW9T1HIW1O7x",
        "outputId": "5dd6bae3-67ee-4f91-cef6-2ee019e3686b"
      },
      "execution_count": null,
      "outputs": [
        {
          "output_type": "display_data",
          "data": {
            "text/plain": [
              "<Figure size 432x288 with 1 Axes>"
            ],
            "image/png": "[encoded data removed]"
          },
          "metadata": {
            "needs_background": "light"
          }
        }
      ]
    },
    {
      "cell_type": "code",
      "source": [
        "#DateFrame prediction plot \n",
        "\n",
        "import matplotlib.pyplot as plt\n",
        "\n",
        "Datai=Raw.copy()\n",
        "\n",
        "Datai[\"GAprediction\"] = Predict(solution, X)\n",
        "Datai.to_excel(\"/content/drive/MyDrive/Colab Notebooks/GApredictions.xlsx\")\n",
        "\n",
        "Datai['Date'] = pd.to_datetime(Datai['Time'] )\n",
        "Datai=Datai.set_index('Date')\n",
        "#Datai = Datai.asfreq('AS')\n",
        "\n",
        "fig, ax = plt.subplots(figsize=(9, 4))\n",
        "Datai.iloc[:,1].plot(ax=ax, label='Real Values')\n",
        "Datai[\"GAprediction\"].plot(ax=ax, label='Prediction')\n",
        "plt.title(\"GA Optimized prediction VS Real Records\")\n",
        "\n",
        "ax.legend();"
      ],
      "metadata": {
        "id": "cFtdDJPt5FiX",
        "colab": {
          "base_uri": "https://localhost:8080/",
          "height": 285
        },
        "outputId": "1d6abd72-7c2d-4b77-a2ec-d8864db42ab4"
      },
      "execution_count": null,
      "outputs": [
        {
          "output_type": "display_data",
          "data": {
            "text/plain": [
              "<Figure size 648x288 with 1 Axes>"
            ],
            "image/png": "[encoded data removed]"
          },
          "metadata": {
            "needs_background": "light"
          }
        }
      ]
    },
    {
      "cell_type": "code",
      "source": [],
      "metadata": {
        "id": "zz6OdgHyrzUo"
      },
      "execution_count": null,
      "outputs": []
    }
  ]
}